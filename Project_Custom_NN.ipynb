{
 "cells": [
  {
   "cell_type": "code",
   "execution_count": 2,
   "metadata": {},
   "outputs": [],
   "source": [
    "import pandas as pd\n",
    "import os\n",
    "import zipfile\n",
    "import torch"
   ]
  },
  {
   "cell_type": "code",
   "execution_count": 1,
   "metadata": {},
   "outputs": [
    {
     "name": "stdout",
     "output_type": "stream",
     "text": [
      "sanity check\n"
     ]
    }
   ],
   "source": [
    "print(\"sanity check\")"
   ]
  },
  {
   "cell_type": "code",
   "execution_count": 3,
   "metadata": {},
   "outputs": [],
   "source": [
    "# from tensorflow.compat.v1 import ConfigProto\n",
    "# from tensorflow.compat.v1 import InteractiveSession\n",
    "\n",
    "# config = ConfigProto()\n",
    "# config.gpu_options.allow_growth = True\n",
    "# session = InteractiveSession(config=config)\n"
   ]
  },
  {
   "cell_type": "code",
   "execution_count": 2,
   "metadata": {},
   "outputs": [],
   "source": [
    "# uncomment only if you want to unzip folder, it is already unzipped now\n",
    "# with zipfile.ZipFile('./Mammals.zip', 'r') as zip_ref:\n",
    "#    zip_ref.extractall('')"
   ]
  },
  {
   "cell_type": "code",
   "execution_count": 3,
   "metadata": {},
   "outputs": [],
   "source": [
    "#import pathlib\n",
    "#data_dir = pathlib.Path('./Mammals')\n",
    "#image_count = len(list(data_dir.glob('*/*.jpg')))\n",
    "#print(image_count)"
   ]
  },
  {
   "cell_type": "code",
   "execution_count": 55,
   "metadata": {},
   "outputs": [],
   "source": [
    "list_of_classes = [name for name in os.listdir('./Mammals') if os.path.isdir(os.path.join('./Mammals', name))]\n",
    "#list_of_classes"
   ]
  },
  {
   "cell_type": "code",
   "execution_count": 56,
   "metadata": {},
   "outputs": [
    {
     "data": {
      "text/plain": [
       "246"
      ]
     },
     "execution_count": 56,
     "metadata": {},
     "output_type": "execute_result"
    }
   ],
   "source": [
    "len(list_of_classes)"
   ]
  },
  {
   "cell_type": "code",
   "execution_count": 57,
   "metadata": {},
   "outputs": [
    {
     "data": {
      "text/plain": [
       "['04767_Animalia_Chordata_Mammalia_Monotremata_Tachyglossidae_Tachyglossus_aculeatus',\n",
       " '04730_Animalia_Chordata_Mammalia_Chiroptera_Vespertilionidae_Perimyotis_subflavus',\n",
       " '04691_Animalia_Chordata_Mammalia_Carnivora_Mephitidae_Mephitis_mephitis',\n",
       " '04766_Animalia_Chordata_Mammalia_Monotremata_Ornithorhynchidae_Ornithorhynchus_anatinus']"
      ]
     },
     "execution_count": 57,
     "metadata": {},
     "output_type": "execute_result"
    }
   ],
   "source": [
    "subset = list_of_classes[2:6]\n",
    "subset"
   ]
  },
  {
   "cell_type": "code",
   "execution_count": 58,
   "metadata": {},
   "outputs": [
    {
     "name": "stdout",
     "output_type": "stream",
     "text": [
      "total training GOAT images: 300\n"
     ]
    }
   ],
   "source": [
    "df_mammals = pd.DataFrame()\n",
    "\n",
    "[len(os.listdir('./Mammals/'+subset[0]))]\n",
    "print('total training GOAT images:', len(os.listdir('./Mammals/'+subset[0])))"
   ]
  },
  {
   "cell_type": "code",
   "execution_count": 59,
   "metadata": {},
   "outputs": [],
   "source": [
    "list_of_lengths = [len(os.listdir('./Mammals/'+name)) for name in os.listdir('./Mammals') if os.path.isdir(os.path.join('./Mammals', name))]"
   ]
  },
  {
   "cell_type": "code",
   "execution_count": 60,
   "metadata": {},
   "outputs": [],
   "source": [
    "# list_of_lengths"
   ]
  },
  {
   "cell_type": "code",
   "execution_count": 61,
   "metadata": {},
   "outputs": [],
   "source": [
    "df_mammals = pd.DataFrame({'class':list_of_classes, 'length': list_of_lengths})"
   ]
  },
  {
   "cell_type": "code",
   "execution_count": 62,
   "metadata": {},
   "outputs": [
    {
     "data": {
      "text/html": [
       "<div>\n",
       "<style scoped>\n",
       "    .dataframe tbody tr th:only-of-type {\n",
       "        vertical-align: middle;\n",
       "    }\n",
       "\n",
       "    .dataframe tbody tr th {\n",
       "        vertical-align: top;\n",
       "    }\n",
       "\n",
       "    .dataframe thead th {\n",
       "        text-align: right;\n",
       "    }\n",
       "</style>\n",
       "<table border=\"1\" class=\"dataframe\">\n",
       "  <thead>\n",
       "    <tr style=\"text-align: right;\">\n",
       "      <th></th>\n",
       "      <th>class</th>\n",
       "      <th>length</th>\n",
       "    </tr>\n",
       "  </thead>\n",
       "  <tbody>\n",
       "    <tr>\n",
       "      <th>123</th>\n",
       "      <td>04663_Animalia_Chordata_Mammalia_Artiodactyla_...</td>\n",
       "      <td>300</td>\n",
       "    </tr>\n",
       "    <tr>\n",
       "      <th>181</th>\n",
       "      <td>04821_Animalia_Chordata_Mammalia_Rodentia_Sciu...</td>\n",
       "      <td>300</td>\n",
       "    </tr>\n",
       "    <tr>\n",
       "      <th>145</th>\n",
       "      <td>04637_Animalia_Chordata_Mammalia_Artiodactyla_...</td>\n",
       "      <td>300</td>\n",
       "    </tr>\n",
       "    <tr>\n",
       "      <th>146</th>\n",
       "      <td>04626_Animalia_Chordata_Mammalia_Artiodactyla_...</td>\n",
       "      <td>300</td>\n",
       "    </tr>\n",
       "    <tr>\n",
       "      <th>148</th>\n",
       "      <td>04751_Animalia_Chordata_Mammalia_Eulipotyphla_...</td>\n",
       "      <td>300</td>\n",
       "    </tr>\n",
       "    <tr>\n",
       "      <th>...</th>\n",
       "      <td>...</td>\n",
       "      <td>...</td>\n",
       "    </tr>\n",
       "    <tr>\n",
       "      <th>144</th>\n",
       "      <td>04799_Animalia_Chordata_Mammalia_Rodentia_Cric...</td>\n",
       "      <td>168</td>\n",
       "    </tr>\n",
       "    <tr>\n",
       "      <th>97</th>\n",
       "      <td>04804_Animalia_Chordata_Mammalia_Rodentia_Cric...</td>\n",
       "      <td>167</td>\n",
       "    </tr>\n",
       "    <tr>\n",
       "      <th>17</th>\n",
       "      <td>04732_Animalia_Chordata_Mammalia_Dermoptera_Cy...</td>\n",
       "      <td>167</td>\n",
       "    </tr>\n",
       "    <tr>\n",
       "      <th>6</th>\n",
       "      <td>04748_Animalia_Chordata_Mammalia_Eulipotyphla_...</td>\n",
       "      <td>161</td>\n",
       "    </tr>\n",
       "    <tr>\n",
       "      <th>116</th>\n",
       "      <td>04778_Animalia_Chordata_Mammalia_Primates_Atel...</td>\n",
       "      <td>156</td>\n",
       "    </tr>\n",
       "  </tbody>\n",
       "</table>\n",
       "<p>246 rows × 2 columns</p>\n",
       "</div>"
      ],
      "text/plain": [
       "                                                 class  length\n",
       "123  04663_Animalia_Chordata_Mammalia_Artiodactyla_...     300\n",
       "181  04821_Animalia_Chordata_Mammalia_Rodentia_Sciu...     300\n",
       "145  04637_Animalia_Chordata_Mammalia_Artiodactyla_...     300\n",
       "146  04626_Animalia_Chordata_Mammalia_Artiodactyla_...     300\n",
       "148  04751_Animalia_Chordata_Mammalia_Eulipotyphla_...     300\n",
       "..                                                 ...     ...\n",
       "144  04799_Animalia_Chordata_Mammalia_Rodentia_Cric...     168\n",
       "97   04804_Animalia_Chordata_Mammalia_Rodentia_Cric...     167\n",
       "17   04732_Animalia_Chordata_Mammalia_Dermoptera_Cy...     167\n",
       "6    04748_Animalia_Chordata_Mammalia_Eulipotyphla_...     161\n",
       "116  04778_Animalia_Chordata_Mammalia_Primates_Atel...     156\n",
       "\n",
       "[246 rows x 2 columns]"
      ]
     },
     "execution_count": 62,
     "metadata": {},
     "output_type": "execute_result"
    }
   ],
   "source": [
    "df_mammals.sort_values(by=\"length\",ascending=False)"
   ]
  },
  {
   "cell_type": "code",
   "execution_count": 63,
   "metadata": {},
   "outputs": [],
   "source": [
    "df_mammals['family'] = df_mammals['class'].apply(lambda x: x.split('_')[4])\n",
    "df_mammals['genus'] = df_mammals['class'].apply(lambda x: x.split('_')[5])"
   ]
  },
  {
   "cell_type": "code",
   "execution_count": 64,
   "metadata": {},
   "outputs": [
    {
     "data": {
      "text/html": [
       "<div>\n",
       "<style scoped>\n",
       "    .dataframe tbody tr th:only-of-type {\n",
       "        vertical-align: middle;\n",
       "    }\n",
       "\n",
       "    .dataframe tbody tr th {\n",
       "        vertical-align: top;\n",
       "    }\n",
       "\n",
       "    .dataframe thead th {\n",
       "        text-align: right;\n",
       "    }\n",
       "</style>\n",
       "<table border=\"1\" class=\"dataframe\">\n",
       "  <thead>\n",
       "    <tr style=\"text-align: right;\">\n",
       "      <th></th>\n",
       "      <th>class</th>\n",
       "      <th>length</th>\n",
       "      <th>family</th>\n",
       "      <th>genus</th>\n",
       "    </tr>\n",
       "  </thead>\n",
       "  <tbody>\n",
       "    <tr>\n",
       "      <th>0</th>\n",
       "      <td>04780_Animalia_Chordata_Mammalia_Primates_Cebi...</td>\n",
       "      <td>200</td>\n",
       "      <td>Primates</td>\n",
       "      <td>Cebidae</td>\n",
       "    </tr>\n",
       "    <tr>\n",
       "      <th>1</th>\n",
       "      <td>04829_Animalia_Chordata_Mammalia_Rodentia_Sciu...</td>\n",
       "      <td>300</td>\n",
       "      <td>Rodentia</td>\n",
       "      <td>Sciuridae</td>\n",
       "    </tr>\n",
       "    <tr>\n",
       "      <th>2</th>\n",
       "      <td>04767_Animalia_Chordata_Mammalia_Monotremata_T...</td>\n",
       "      <td>300</td>\n",
       "      <td>Monotremata</td>\n",
       "      <td>Tachyglossidae</td>\n",
       "    </tr>\n",
       "    <tr>\n",
       "      <th>3</th>\n",
       "      <td>04730_Animalia_Chordata_Mammalia_Chiroptera_Ve...</td>\n",
       "      <td>226</td>\n",
       "      <td>Chiroptera</td>\n",
       "      <td>Vespertilionidae</td>\n",
       "    </tr>\n",
       "    <tr>\n",
       "      <th>4</th>\n",
       "      <td>04691_Animalia_Chordata_Mammalia_Carnivora_Mep...</td>\n",
       "      <td>300</td>\n",
       "      <td>Carnivora</td>\n",
       "      <td>Mephitidae</td>\n",
       "    </tr>\n",
       "    <tr>\n",
       "      <th>...</th>\n",
       "      <td>...</td>\n",
       "      <td>...</td>\n",
       "      <td>...</td>\n",
       "      <td>...</td>\n",
       "    </tr>\n",
       "    <tr>\n",
       "      <th>241</th>\n",
       "      <td>04840_Animalia_Chordata_Mammalia_Rodentia_Sciu...</td>\n",
       "      <td>300</td>\n",
       "      <td>Rodentia</td>\n",
       "      <td>Sciuridae</td>\n",
       "    </tr>\n",
       "    <tr>\n",
       "      <th>242</th>\n",
       "      <td>04657_Animalia_Chordata_Mammalia_Artiodactyla_...</td>\n",
       "      <td>300</td>\n",
       "      <td>Artiodactyla</td>\n",
       "      <td>Delphinidae</td>\n",
       "    </tr>\n",
       "    <tr>\n",
       "      <th>243</th>\n",
       "      <td>04781_Animalia_Chordata_Mammalia_Primates_Cebi...</td>\n",
       "      <td>300</td>\n",
       "      <td>Primates</td>\n",
       "      <td>Cebidae</td>\n",
       "    </tr>\n",
       "    <tr>\n",
       "      <th>244</th>\n",
       "      <td>04858_Animalia_Chordata_Mammalia_Sirenia_Trich...</td>\n",
       "      <td>300</td>\n",
       "      <td>Sirenia</td>\n",
       "      <td>Trichechidae</td>\n",
       "    </tr>\n",
       "    <tr>\n",
       "      <th>245</th>\n",
       "      <td>04699_Animalia_Chordata_Mammalia_Carnivora_Mus...</td>\n",
       "      <td>300</td>\n",
       "      <td>Carnivora</td>\n",
       "      <td>Mustelidae</td>\n",
       "    </tr>\n",
       "  </tbody>\n",
       "</table>\n",
       "<p>246 rows × 4 columns</p>\n",
       "</div>"
      ],
      "text/plain": [
       "                                                 class  length        family  \\\n",
       "0    04780_Animalia_Chordata_Mammalia_Primates_Cebi...     200      Primates   \n",
       "1    04829_Animalia_Chordata_Mammalia_Rodentia_Sciu...     300      Rodentia   \n",
       "2    04767_Animalia_Chordata_Mammalia_Monotremata_T...     300   Monotremata   \n",
       "3    04730_Animalia_Chordata_Mammalia_Chiroptera_Ve...     226    Chiroptera   \n",
       "4    04691_Animalia_Chordata_Mammalia_Carnivora_Mep...     300     Carnivora   \n",
       "..                                                 ...     ...           ...   \n",
       "241  04840_Animalia_Chordata_Mammalia_Rodentia_Sciu...     300      Rodentia   \n",
       "242  04657_Animalia_Chordata_Mammalia_Artiodactyla_...     300  Artiodactyla   \n",
       "243  04781_Animalia_Chordata_Mammalia_Primates_Cebi...     300      Primates   \n",
       "244  04858_Animalia_Chordata_Mammalia_Sirenia_Trich...     300       Sirenia   \n",
       "245  04699_Animalia_Chordata_Mammalia_Carnivora_Mus...     300     Carnivora   \n",
       "\n",
       "                genus  \n",
       "0             Cebidae  \n",
       "1           Sciuridae  \n",
       "2      Tachyglossidae  \n",
       "3    Vespertilionidae  \n",
       "4          Mephitidae  \n",
       "..                ...  \n",
       "241         Sciuridae  \n",
       "242       Delphinidae  \n",
       "243           Cebidae  \n",
       "244      Trichechidae  \n",
       "245        Mustelidae  \n",
       "\n",
       "[246 rows x 4 columns]"
      ]
     },
     "execution_count": 64,
     "metadata": {},
     "output_type": "execute_result"
    }
   ],
   "source": [
    "df_mammals"
   ]
  },
  {
   "cell_type": "code",
   "execution_count": 65,
   "metadata": {},
   "outputs": [
    {
     "data": {
      "text/html": [
       "<div>\n",
       "<style scoped>\n",
       "    .dataframe tbody tr th:only-of-type {\n",
       "        vertical-align: middle;\n",
       "    }\n",
       "\n",
       "    .dataframe tbody tr th {\n",
       "        vertical-align: top;\n",
       "    }\n",
       "\n",
       "    .dataframe thead th {\n",
       "        text-align: right;\n",
       "    }\n",
       "</style>\n",
       "<table border=\"1\" class=\"dataframe\">\n",
       "  <thead>\n",
       "    <tr style=\"text-align: right;\">\n",
       "      <th></th>\n",
       "      <th>class</th>\n",
       "      <th>length</th>\n",
       "      <th>family</th>\n",
       "    </tr>\n",
       "    <tr>\n",
       "      <th>genus</th>\n",
       "      <th></th>\n",
       "      <th></th>\n",
       "      <th></th>\n",
       "    </tr>\n",
       "  </thead>\n",
       "  <tbody>\n",
       "    <tr>\n",
       "      <th>Antilocapridae</th>\n",
       "      <td>1</td>\n",
       "      <td>1</td>\n",
       "      <td>1</td>\n",
       "    </tr>\n",
       "    <tr>\n",
       "      <th>Geomyidae</th>\n",
       "      <td>1</td>\n",
       "      <td>1</td>\n",
       "      <td>1</td>\n",
       "    </tr>\n",
       "    <tr>\n",
       "      <th>Giraffidae</th>\n",
       "      <td>1</td>\n",
       "      <td>1</td>\n",
       "      <td>1</td>\n",
       "    </tr>\n",
       "    <tr>\n",
       "      <th>Hippopotamidae</th>\n",
       "      <td>1</td>\n",
       "      <td>1</td>\n",
       "      <td>1</td>\n",
       "    </tr>\n",
       "    <tr>\n",
       "      <th>Megalonychidae</th>\n",
       "      <td>1</td>\n",
       "      <td>1</td>\n",
       "      <td>1</td>\n",
       "    </tr>\n",
       "    <tr>\n",
       "      <th>...</th>\n",
       "      <td>...</td>\n",
       "      <td>...</td>\n",
       "      <td>...</td>\n",
       "    </tr>\n",
       "    <tr>\n",
       "      <th>Cervidae</th>\n",
       "      <td>11</td>\n",
       "      <td>11</td>\n",
       "      <td>11</td>\n",
       "    </tr>\n",
       "    <tr>\n",
       "      <th>Mustelidae</th>\n",
       "      <td>12</td>\n",
       "      <td>12</td>\n",
       "      <td>12</td>\n",
       "    </tr>\n",
       "    <tr>\n",
       "      <th>Leporidae</th>\n",
       "      <td>12</td>\n",
       "      <td>12</td>\n",
       "      <td>12</td>\n",
       "    </tr>\n",
       "    <tr>\n",
       "      <th>Bovidae</th>\n",
       "      <td>28</td>\n",
       "      <td>28</td>\n",
       "      <td>28</td>\n",
       "    </tr>\n",
       "    <tr>\n",
       "      <th>Sciuridae</th>\n",
       "      <td>41</td>\n",
       "      <td>41</td>\n",
       "      <td>41</td>\n",
       "    </tr>\n",
       "  </tbody>\n",
       "</table>\n",
       "<p>64 rows × 3 columns</p>\n",
       "</div>"
      ],
      "text/plain": [
       "                class  length  family\n",
       "genus                                \n",
       "Antilocapridae      1       1       1\n",
       "Geomyidae           1       1       1\n",
       "Giraffidae          1       1       1\n",
       "Hippopotamidae      1       1       1\n",
       "Megalonychidae      1       1       1\n",
       "...               ...     ...     ...\n",
       "Cervidae           11      11      11\n",
       "Mustelidae         12      12      12\n",
       "Leporidae          12      12      12\n",
       "Bovidae            28      28      28\n",
       "Sciuridae          41      41      41\n",
       "\n",
       "[64 rows x 3 columns]"
      ]
     },
     "execution_count": 65,
     "metadata": {},
     "output_type": "execute_result"
    }
   ],
   "source": [
    "df_mammals.groupby('genus').count().sort_values(by='class')"
   ]
  },
  {
   "cell_type": "code",
   "execution_count": 67,
   "metadata": {},
   "outputs": [],
   "source": [
    "df_sorted = df_mammals.groupby('genus')['length'].sum().sort_values(ascending=False)"
   ]
  },
  {
   "cell_type": "code",
   "execution_count": 73,
   "metadata": {},
   "outputs": [
    {
     "data": {
      "text/plain": [
       "11604"
      ]
     },
     "execution_count": 73,
     "metadata": {},
     "output_type": "execute_result"
    }
   ],
   "source": [
    "df_sorted[0]"
   ]
  },
  {
   "cell_type": "code",
   "execution_count": 71,
   "metadata": {},
   "outputs": [
    {
     "data": {
      "text/plain": [
       "array([8054])"
      ]
     },
     "execution_count": 71,
     "metadata": {},
     "output_type": "execute_result"
    }
   ],
   "source": [
    "chosen_subset"
   ]
  },
  {
   "cell_type": "raw",
   "metadata": {},
   "source": [
    "pip install split-folders"
   ]
  },
  {
   "cell_type": "code",
   "execution_count": null,
   "metadata": {},
   "outputs": [],
   "source": [
    "# UNCOMMENT THIS TO SPLIT FOLDERS\n",
    "# import splitfolders\n",
    "# splitfolders.ratio('Mammals', output=\"Mammals_Split\", seed=1337, ratio=(.7, 0.1,0.2)) \n"
   ]
  },
  {
   "cell_type": "markdown",
   "metadata": {},
   "source": [
    "#### Merging folders by genus"
   ]
  },
  {
   "cell_type": "code",
   "execution_count": 17,
   "metadata": {},
   "outputs": [],
   "source": [
    "import shutil"
   ]
  },
  {
   "cell_type": "raw",
   "metadata": {
    "tags": []
   },
   "source": [
    "def groupByGenus(directory):\n",
    "    for folder in os.listdir(directory):\n",
    "        try:\n",
    "            os.rename(directory+\"/\"+folder, directory+\"/\"+folder.split('_')[5])\n",
    "        except:\n",
    "            split_name = folder.split('_')[5]\n",
    "            for file in os.listdir(directory+\"/\"+folder):\n",
    "                shutil.move(directory+\"/\"+folder+\"/\"+file, directory+\"/\"+split_name)"
   ]
  },
  {
   "cell_type": "raw",
   "metadata": {
    "tags": []
   },
   "source": [
    "dir_bov = train_dir+\"/Bovidae\"\n",
    "len(os.listdir(dir_bov))"
   ]
  },
  {
   "cell_type": "raw",
   "metadata": {},
   "source": [
    "# deleting empty folders: loop over folders and if empty -> delete\n",
    "def removeFolders(directory):\n",
    "    for folder in os.listdir(directory):\n",
    "        if not os.listdir(directory+\"/\"+folder):\n",
    "            os.rmdir(directory+\"/\"+folder)"
   ]
  },
  {
   "cell_type": "raw",
   "metadata": {},
   "source": [
    "groupByGenus(train_dir)\n",
    "removeFolders(train_dir)"
   ]
  },
  {
   "cell_type": "raw",
   "metadata": {},
   "source": [
    "groupByGenus(validation_dir)\n",
    "removeFolders(validation_dir)"
   ]
  },
  {
   "cell_type": "raw",
   "metadata": {},
   "source": [
    "dir_bov_val = validation_dir+\"/Bovidae\"\n",
    "len(os.listdir(dir_bov_val))"
   ]
  },
  {
   "cell_type": "markdown",
   "metadata": {},
   "source": [
    "#### Getting the mode of widths and heights"
   ]
  },
  {
   "cell_type": "code",
   "execution_count": 19,
   "metadata": {},
   "outputs": [],
   "source": [
    "# from PIL import Image\n",
    "# average_width = 0\n",
    "# average_height = 0\n",
    "# counter = 0\n",
    "\n",
    "# widths = {}\n",
    "# heights = {}\n",
    "# for name in os.listdir('./Mammals'):\n",
    "#     # print(name)\n",
    "#     if os.path.isdir(os.path.join('./Mammals', name)):\n",
    "#         for filepath in os.listdir(os.path.join('./Mammals', name)):\n",
    "#             if os.path.isdir(os.path.join('./Mammals', name)):\n",
    "#                 try: \n",
    "#                     img = Image.open(os.path.join('./Mammals', name, filepath))\n",
    "\n",
    "#                     widths[img.width] = widths.get(img.width, 0) + 1\n",
    "#                     heights[img.height] = heights.get(img.height, 0) + 1\n",
    "\n",
    "#                 except:\n",
    "#                     counter+=1"
   ]
  },
  {
   "cell_type": "code",
   "execution_count": 20,
   "metadata": {},
   "outputs": [],
   "source": [
    "# most_common_width = max(widths, key=widths.get) \n",
    "# most_common_height = max(heights, key=heights.get) "
   ]
  },
  {
   "cell_type": "code",
   "execution_count": 21,
   "metadata": {},
   "outputs": [],
   "source": [
    "# print(\"The width of the image is: \", most_common_width)\n",
    "# print(\"The height of the image is: \", most_common_height)"
   ]
  },
  {
   "cell_type": "code",
   "execution_count": 18,
   "metadata": {},
   "outputs": [],
   "source": [
    "base_dir = \"./Mammals_Split\"\n",
    "train_dir = os.path.join(base_dir, 'train')\n",
    "validation_dir =os.path.join(base_dir, 'val')\n",
    "test_dir = os.path.join(base_dir, 'test')"
   ]
  },
  {
   "cell_type": "code",
   "execution_count": 23,
   "metadata": {},
   "outputs": [],
   "source": [
    "# todo: ADD LATER\n",
    "\n",
    "# print('total training cat images:', len(os.listdir(train_cats_dir)))\n",
    "# print('total training dog images:', len(os.listdir(train_dogs_dir)))\n",
    "# print('total validation cat images:', len(os.listdir(validation_cats_dir)))\n",
    "# print('total validation dog images:', len(os.listdir(validation_dogs_dir)))\n",
    "# print('total test cat images:', len(os.listdir(test_cats_dir)))\n",
    "# print('total test dog images:', len(os.listdir(test_dogs_dir)))"
   ]
  },
  {
   "cell_type": "markdown",
   "metadata": {},
   "source": [
    "## Building CNN"
   ]
  },
  {
   "cell_type": "code",
   "execution_count": 16,
   "metadata": {},
   "outputs": [],
   "source": [
    "# import os\n",
    "# from tensorflow.keras import layers\n",
    "# from tensorflow.keras import models\n",
    "# from tensorflow.keras.preprocessing import image\n",
    "# from tensorflow.keras.preprocessing.image import ImageDataGenerator\n",
    "# from tensorflow.keras import optimizers\n",
    "# from tensorflow.keras.models import load_model\n",
    "# from tensorflow.keras.callbacks import CSVLogger, EarlyStopping\n",
    "# import matplotlib.pyplot as plt\n",
    "# import pandas as pd"
   ]
  },
  {
   "cell_type": "code",
   "execution_count": 20,
   "metadata": {},
   "outputs": [],
   "source": [
    "# #from tensorflow.keras import layers\n",
    "# #from tensorflow.keras import models\n",
    "\n",
    "# # silvia added dropout to avoid overfitting\n",
    "\n",
    "# model = models.Sequential()\n",
    "# model.add(layers.Conv2D(32, (3, 3), activation='relu',\n",
    "#                         input_shape=(150, 150, 3)))\n",
    "# model.add(layers.MaxPooling2D((2, 2)))\n",
    "# model.add(layers.Conv2D(64, (3, 3), activation='relu'))\n",
    "# model.add(layers.MaxPooling2D((2, 2)))\n",
    "# model.add(layers.Conv2D(128, (3, 3), activation='relu'))\n",
    "# model.add(layers.MaxPooling2D((2, 2)))\n",
    "# model.add(layers.Conv2D(128, (3, 3), activation='relu'))\n",
    "# model.add(layers.MaxPooling2D((2, 2)))\n",
    "# model.add(layers.Flatten())\n",
    "# model.add(layers.Dropout(rate=0.5))   #Dropout layer\n",
    "# model.add(layers.Dense(512, activation='relu'))\n",
    "# model.add(layers.Dense(100, activation='relu'))\n",
    "# model.add(layers.Dense(64, activation='sigmoid'))\n",
    "\n",
    "# model.compile(loss='categorical_crossentropy',\n",
    "#               optimizer=optimizers.RMSprop(learning_rate=1e-4),\n",
    "#               metrics=['acc'])"
   ]
  },
  {
   "cell_type": "markdown",
   "metadata": {},
   "source": [
    "#### Building our Model"
   ]
  },
  {
   "cell_type": "code",
   "execution_count": 6,
   "metadata": {},
   "outputs": [],
   "source": [
    "BATCH_SIZE= 100"
   ]
  },
  {
   "cell_type": "raw",
   "metadata": {},
   "source": [
    "train_datagen=ImageDataGenerator(rescale=1./255)\n",
    "validation_datagen=ImageDataGenerator(rescale=1./255)\n",
    "\n",
    "train_generator=train_datagen.flow_from_directory(\n",
    "    train_dir, \n",
    "    target_size=(150,150),\n",
    "    batch_size=BATCH_SIZE\n",
    ")\n",
    "\n",
    "validation_generator=validation_datagen.flow_from_directory(\n",
    "    validation_dir, \n",
    "    target_size=(150,150),\n",
    "    batch_size=BATCH_SIZE\n",
    ")"
   ]
  },
  {
   "cell_type": "code",
   "execution_count": 32,
   "metadata": {},
   "outputs": [
    {
     "name": "stdout",
     "output_type": "stream",
     "text": [
      "Found 7008 images belonging to 3 classes.\n",
      "Found 1000 images belonging to 3 classes.\n"
     ]
    }
   ],
   "source": [
    "#adding data augmentation \n",
    "train_datagen = ImageDataGenerator(\n",
    "    rescale=1./255,\n",
    "    rotation_range=40,\n",
    "    width_shift_range=0.2,\n",
    "    height_shift_range=0.2,\n",
    "    shear_range=0.2,\n",
    "    zoom_range=0.2,\n",
    "    horizontal_flip=True,\n",
    "    fill_mode=\"nearest\")\n",
    "\n",
    "# Note that the validation data should not be augmented!\n",
    "validation_datagen = ImageDataGenerator(rescale=1./255)\n",
    "\n",
    "train_generator = train_datagen.flow_from_directory(\n",
    "        # This is the target directory\n",
    "        train_dir,\n",
    "        # All images will be resized to 150x150\n",
    "        target_size=(150, 150),\n",
    "        batch_size=BATCH_SIZE,\n",
    "        # Since we use binary_crossentropy loss, we need binary labels\n",
    "        class_mode='categorical')\n",
    "\n",
    "validation_generator = validation_datagen.flow_from_directory(\n",
    "        validation_dir,\n",
    "        target_size=(150, 150),\n",
    "        batch_size=BATCH_SIZE,\n",
    "        class_mode='categorical')\n",
    "\n",
    "\n",
    "csv_logger = CSVLogger('training_augmented.log',\n",
    "                       separator=',', \n",
    "                       append=False)\n"
   ]
  },
  {
   "cell_type": "code",
   "execution_count": null,
   "metadata": {},
   "outputs": [],
   "source": [
    "# model.fit?"
   ]
  },
  {
   "cell_type": "markdown",
   "metadata": {},
   "source": [
    "### Callbacks Setup"
   ]
  },
  {
   "cell_type": "code",
   "execution_count": null,
   "metadata": {},
   "outputs": [],
   "source": [
    "earlystop=EarlyStopping(monitor='val_acc',\n",
    "                        min_delta=0.001,\n",
    "                        patience=6,\n",
    "                        verbose=1,\n",
    "                        mode='auto')"
   ]
  },
  {
   "cell_type": "code",
   "execution_count": null,
   "metadata": {},
   "outputs": [],
   "source": [
    "\n",
    "csv_logger=CSVLogger('training.log',separator=\",\",append=False)"
   ]
  },
  {
   "cell_type": "code",
   "execution_count": null,
   "metadata": {},
   "outputs": [],
   "source": [
    "len(os.listdir(train_dir))"
   ]
  },
  {
   "cell_type": "markdown",
   "metadata": {},
   "source": [
    "### Fitting Model"
   ]
  },
  {
   "cell_type": "code",
   "execution_count": null,
   "metadata": {},
   "outputs": [],
   "source": [
    "history=model.fit(train_generator,\n",
    "          steps_per_epoch=(48214/BATCH_SIZE), # this is for the training images\n",
    "\n",
    "          epochs=30, \n",
    "\n",
    "          validation_data=validation_generator,\n",
    "          validation_steps=(6864/BATCH_SIZE),\n",
    "\n",
    "          callbacks=[earlystop,csv_logger]\n",
    "\n",
    "          )"
   ]
  },
  {
   "cell_type": "markdown",
   "metadata": {},
   "source": [
    "## Slightly different model configuration"
   ]
  },
  {
   "cell_type": "code",
   "execution_count": null,
   "metadata": {},
   "outputs": [],
   "source": [
    "train_generator=train_datagen.flow_from_directory(\n",
    "    train_dir, \n",
    "    target_size=(200,200),\n",
    "    batch_size=BATCH_SIZE\n",
    ")\n",
    "\n",
    "validation_generator=validation_datagen.flow_from_directory(\n",
    "    validation_dir, \n",
    "    target_size=(200,200),\n",
    "    batch_size=BATCH_SIZE\n",
    ")"
   ]
  },
  {
   "cell_type": "code",
   "execution_count": null,
   "metadata": {},
   "outputs": [],
   "source": [
    "#adding data augmentation \n",
    "train_datagen = ImageDataGenerator(\n",
    "    rescale=1./255,\n",
    "    rotation_range=40,\n",
    "    width_shift_range=0.2,\n",
    "    height_shift_range=0.2,\n",
    "    shear_range=0.2,\n",
    "    zoom_range=0.2,\n",
    "    horizontal_flip=True,\n",
    "    fill_mode=\"nearest\")\n",
    "\n",
    "# Note that the validation data should not be augmented!\n",
    "validation_datagen = ImageDataGenerator(rescale=1./255)\n",
    "\n",
    "train_generator = train_datagen.flow_from_directory(\n",
    "        # This is the target directory\n",
    "        train_dir,\n",
    "        # All images will be resized to 150x150\n",
    "        target_size=(200, 200),\n",
    "        batch_size=BATCH_SIZE,\n",
    "        # Since we use binary_crossentropy loss, we need binary labels\n",
    "        class_mode='categorical')\n",
    "\n",
    "validation_generator = validation_datagen.flow_from_directory(\n",
    "        validation_dir,\n",
    "        target_size=(200, 200),\n",
    "        batch_size=BATCH_SIZE,\n",
    "        class_mode='categorical')\n",
    "\n",
    "\n",
    "csv_logger = CSVLogger('training_augmented.log',\n",
    "                       separator=',', \n",
    "                       append=False)"
   ]
  },
  {
   "cell_type": "code",
   "execution_count": null,
   "metadata": {},
   "outputs": [],
   "source": [
    "# #silvia --> model overfits\n",
    "\n",
    "# # Creating a Sequential model\n",
    "# from tensorflow.keras import layers\n",
    "# from tensorflow.keras import models\n",
    "# model= models.Sequential()\n",
    "# model.add(layers.Conv2D(kernel_size=(3,3), filters=32, activation='tanh', input_shape=(200,200,3,)))\n",
    "# model.add(layers.Conv2D(filters=30,kernel_size = (3,3),activation='tanh'))\n",
    "# model.add(layers.MaxPool2D(2,2))\n",
    "# model.add(layers.Conv2D(filters=30,kernel_size = (3,3),activation='tanh'))\n",
    "# model.add(layers.MaxPool2D(2,2))\n",
    "# model.add(layers.Conv2D(filters=30,kernel_size = (3,3),activation='tanh'))\n",
    "\n",
    "# model.add(layers.Flatten())\n",
    "# model.add(layers.Dropout(rate=0.5)) \n",
    "# model.add(layers.Dense(100,activation='relu'))\n",
    "# model.add(layers.Dense(80,activation='relu'))\n",
    "# model.add(layers.Dense(64,activation = 'softmax'))\n",
    "    \n",
    "# model.compile(\n",
    "#               loss='categorical_crossentropy', \n",
    "#               metrics=['acc'],\n",
    "#               optimizer='adam'\n",
    "#              )"
   ]
  },
  {
   "cell_type": "code",
   "execution_count": null,
   "metadata": {},
   "outputs": [],
   "source": [
    "# #silvia --> the model overfits\n",
    "# history=model.fit(train_generator,\n",
    "#           steps_per_epoch=(48214/BATCH_SIZE), # this is for the training images\n",
    "\n",
    "#           epochs=30, \n",
    "\n",
    "#           validation_data=validation_generator,\n",
    "#           validation_steps=(6864/BATCH_SIZE),\n",
    "\n",
    "#           callbacks=[earlystop,csv_logger]\n",
    "\n",
    "#           )"
   ]
  },
  {
   "cell_type": "code",
   "execution_count": null,
   "metadata": {},
   "outputs": [],
   "source": [
    "chosen_subset = ['Cercopithecidae','Felidae','Otariidae','Cricetidae']\n",
    "chosen_subset_3k = ['Leporidae','Mustelidae','Cervidae']"
   ]
  },
  {
   "cell_type": "code",
   "execution_count": null,
   "metadata": {},
   "outputs": [],
   "source": [
    "print('ey')"
   ]
  },
  {
   "cell_type": "code",
   "execution_count": null,
   "metadata": {},
   "outputs": [],
   "source": [
    "pip install torch --quiet"
   ]
  },
  {
   "cell_type": "code",
   "execution_count": null,
   "metadata": {},
   "outputs": [],
   "source": [
    "pip uninstall torch -y"
   ]
  },
  {
   "cell_type": "code",
   "execution_count": null,
   "metadata": {},
   "outputs": [],
   "source": [
    "pip install -U numpy"
   ]
  },
  {
   "cell_type": "code",
   "execution_count": 9,
   "metadata": {},
   "outputs": [
    {
     "name": "stdout",
     "output_type": "stream",
     "text": [
      "There are 1 GPU(s) available.\n",
      "We will use the GPU: Tesla K80\n"
     ]
    }
   ],
   "source": [
    "if torch.cuda.is_available():    \n",
    "    device = torch.device(\"cuda\")\n",
    "    print('There are %d GPU(s) available.' % torch.cuda.device_count())\n",
    "    print('We will use the GPU:', torch.cuda.get_device_name(0))\n",
    "\n",
    "else:\n",
    "    print('No GPU available, using the CPU instead.')\n",
    "    device = torch.device(\"cpu\")"
   ]
  },
  {
   "cell_type": "code",
   "execution_count": 23,
   "metadata": {},
   "outputs": [],
   "source": [
    "# # uncomment only if you want to unzip folder, it is already unzipped now\n",
    "# with zipfile.ZipFile('./mammals_subset.zip', 'r') as zip_ref:\n",
    "#    zip_ref.extractall('')"
   ]
  },
  {
   "cell_type": "markdown",
   "metadata": {},
   "source": [
    "# 3 SELECTED CLASSES"
   ]
  },
  {
   "cell_type": "code",
   "execution_count": 97,
   "metadata": {},
   "outputs": [],
   "source": [
    "base_dir = \"./mammals_subset\"\n",
    "train_dir = os.path.join(base_dir, 'train')\n",
    "validation_dir =os.path.join(base_dir, 'val')\n",
    "# test_dir = os.path.join(base_dir, 'test')"
   ]
  },
  {
   "cell_type": "code",
   "execution_count": 98,
   "metadata": {},
   "outputs": [],
   "source": [
    "import os\n",
    "from tensorflow.keras import layers\n",
    "from tensorflow.keras import models\n",
    "from tensorflow.keras.preprocessing import image\n",
    "from tensorflow.keras.preprocessing.image import ImageDataGenerator\n",
    "from tensorflow.keras import optimizers\n",
    "from tensorflow.keras.models import load_model\n",
    "from tensorflow.keras.callbacks import CSVLogger, EarlyStopping\n",
    "import matplotlib.pyplot as plt\n",
    "import pandas as pd"
   ]
  },
  {
   "cell_type": "code",
   "execution_count": 99,
   "metadata": {},
   "outputs": [],
   "source": [
    "from tensorflow.keras.layers import LeakyReLU"
   ]
  },
  {
   "cell_type": "code",
   "execution_count": 100,
   "metadata": {},
   "outputs": [],
   "source": [
    "import tensorflow as tf"
   ]
  },
  {
   "cell_type": "code",
   "execution_count": 101,
   "metadata": {},
   "outputs": [],
   "source": [
    "#from tensorflow.keras import layers\n",
    "#from tensorflow.keras import models\n",
    "\n",
    "# added dropout to avoid overfitting\n",
    "\n",
    "model = models.Sequential()\n",
    "\n",
    "model.add(layers.Conv2D(32, (3, 3), activation=LeakyReLU(alpha=0.01), input_shape=(200, 200, 3)))\n",
    "model.add(layers.MaxPooling2D((2, 2)))\n",
    "model.add(layers.Dropout(rate=0.2)) \n",
    "\n",
    "model.add(layers.Conv2D(64, (3, 3), activation=LeakyReLU(alpha=0.01)))\n",
    "model.add(layers.MaxPooling2D((2, 2)))\n",
    "\n",
    "model.add(layers.Conv2D(128, (3, 3), activation=LeakyReLU(alpha=0.01)))\n",
    "model.add(layers.MaxPooling2D((2, 2)))\n",
    "model.add(layers.Dropout(rate=0.2)) \n",
    "\n",
    "model.add(layers.Conv2D(128, (3, 3), activation=LeakyReLU(alpha=0.01)))\n",
    "model.add(layers.MaxPooling2D((2, 2)))\n",
    "\n",
    "\n",
    "model.add(layers.Conv2D(128, (3, 3), activation=LeakyReLU(alpha=0.01)))\n",
    "model.add(layers.MaxPooling2D((2, 2)))\n",
    "model.add(layers.Flatten())\n",
    "\n",
    "# model.add(layers.Conv2D(256, (3, 3), activation=LeakyReLU(alpha=0.01)))\n",
    "# model.add(layers.MaxPooling2D((2, 2)))\n",
    "# model.add(layers.Dropout(rate=0.5))   \n",
    "\n",
    "model.add(layers.Dense(512, activation=LeakyReLU(alpha=0.01)))\n",
    "model.add(layers.Dropout(rate=0.5))   #Dropout layer\n",
    "\n",
    "\n",
    "model.add(layers.Dense(100, activation=LeakyReLU(alpha=0.01)))\n",
    "#model.add(layers.Dense(64, activation=LeakyReLU(alpha=0.01)))\n",
    "model.add(layers.Dense(3, activation='softmax'))\n",
    "\n",
    "model.compile(loss='sparse_categorical_crossentropy',\n",
    "              optimizer='adam',\n",
    "              metrics=['acc'])"
   ]
  },
  {
   "cell_type": "code",
   "execution_count": 102,
   "metadata": {
    "tags": []
   },
   "outputs": [],
   "source": [
    "# model.compile(optimizer='adam',\n",
    "#               loss=tf.keras.losses.SparseCategoricalCrossentropy(from_logits=False),\n",
    "#               metrics=['accuracy'])\n",
    "\n",
    "\n",
    "# model.compile(loss='sparse_categorical_crossentropy',\n",
    "#               optimizer=optimizers.RMSprop(learning_rate=1e-4),\n",
    "#               metrics=['acc'])"
   ]
  },
  {
   "cell_type": "code",
   "execution_count": 103,
   "metadata": {},
   "outputs": [],
   "source": [
    "# #from tensorflow.keras import layers\n",
    "# #from tensorflow.keras import models\n",
    "\n",
    "# numberOfClass = 3 \n",
    "# model = models.Sequential()\n",
    "# model.add(Conv2D(32,(3,3),input_shape=(150, 150, 3)))\n",
    "# model.add(Activation(\"relu\"))\n",
    "# model.add(MaxPooling2D())\n",
    "\n",
    "# model.add(Conv2D(32,(3,3)))\n",
    "# model.add(Activation(\"relu\"))\n",
    "# model.add(MaxPooling2D())\n",
    "\n",
    "# model.add(Conv2D(64,(3,3)))\n",
    "# model.add(Activation(\"relu\"))\n",
    "# model.add(MaxPooling2D())\n",
    "\n",
    "# model.add(Flatten())\n",
    "# model.add(Dense(1024))\n",
    "# model.add(Activation(\"relu\"))\n",
    "# model.add(Dropout(0.5))\n",
    "# model.add(Dense(numberOfClass)) # output\n",
    "# model.add(Activation(\"softmax\"))"
   ]
  },
  {
   "cell_type": "code",
   "execution_count": 104,
   "metadata": {},
   "outputs": [],
   "source": [
    "# model.compile(loss = \"categorical_crossentropy\",\n",
    "#               optimizer = \"rmsprop\",\n",
    "#               metrics = [\"accuracy\"])"
   ]
  },
  {
   "cell_type": "markdown",
   "metadata": {},
   "source": [
    "#### Building our Model"
   ]
  },
  {
   "cell_type": "code",
   "execution_count": 105,
   "metadata": {},
   "outputs": [],
   "source": [
    "BATCH_SIZE= 100"
   ]
  },
  {
   "cell_type": "code",
   "execution_count": 106,
   "metadata": {},
   "outputs": [
    {
     "name": "stdout",
     "output_type": "stream",
     "text": [
      "Found 7028 images belonging to 3 classes.\n",
      "Found 1000 images belonging to 3 classes.\n"
     ]
    }
   ],
   "source": [
    "train_datagen=ImageDataGenerator(rescale=1./255)\n",
    "validation_datagen=ImageDataGenerator(rescale=1./255)\n",
    "\n",
    "train_generator=train_datagen.flow_from_directory(\n",
    "    train_dir, \n",
    "    target_size=(200,200),\n",
    "    batch_size=BATCH_SIZE\n",
    ")\n",
    "\n",
    "validation_generator=validation_datagen.flow_from_directory(\n",
    "    validation_dir, \n",
    "    target_size=(200,200),\n",
    "    batch_size=BATCH_SIZE\n",
    ")"
   ]
  },
  {
   "cell_type": "code",
   "execution_count": 107,
   "metadata": {},
   "outputs": [
    {
     "name": "stdout",
     "output_type": "stream",
     "text": [
      "Found 7028 images belonging to 3 classes.\n",
      "Found 1000 images belonging to 3 classes.\n"
     ]
    }
   ],
   "source": [
    "#adding data augmentation \n",
    "train_datagen = ImageDataGenerator(\n",
    "    rescale=1./255,\n",
    "    rotation_range=40,\n",
    "    width_shift_range=0.2,\n",
    "    height_shift_range=0.2,\n",
    "    shear_range=0.2,\n",
    "    zoom_range=0.2,\n",
    "    horizontal_flip=True,\n",
    "    fill_mode=\"nearest\")\n",
    "\n",
    "# Note that the validation data should not be augmented!\n",
    "validation_datagen = ImageDataGenerator(rescale=1./255)\n",
    "\n",
    "train_generator = train_datagen.flow_from_directory(\n",
    "        # This is the target directory\n",
    "        train_dir,\n",
    "        # All images will be resized to 150x150\n",
    "        target_size=(200, 200),\n",
    "        batch_size=BATCH_SIZE,\n",
    "        # Since we use binary_crossentropy loss, we need binary labels\n",
    "        class_mode='sparse')\n",
    "\n",
    "validation_generator = validation_datagen.flow_from_directory(\n",
    "        validation_dir,\n",
    "        target_size=(200, 200),\n",
    "        batch_size=BATCH_SIZE,\n",
    "        class_mode='sparse')\n",
    "\n",
    "\n",
    "csv_logger = CSVLogger('training_augmented.log',\n",
    "                       separator=',', \n",
    "                       append=False)\n"
   ]
  },
  {
   "cell_type": "code",
   "execution_count": null,
   "metadata": {},
   "outputs": [],
   "source": []
  },
  {
   "cell_type": "code",
   "execution_count": 108,
   "metadata": {},
   "outputs": [],
   "source": [
    "earlystop=EarlyStopping(monitor='val_acc',\n",
    "                        min_delta=0.001,\n",
    "                        patience=6,\n",
    "                        verbose=1,\n",
    "                        mode='auto')\n",
    "\n",
    "csv_logger=CSVLogger('training.log',separator=\",\",append=False)"
   ]
  },
  {
   "cell_type": "code",
   "execution_count": null,
   "metadata": {},
   "outputs": [
    {
     "name": "stdout",
     "output_type": "stream",
     "text": [
      "Epoch 1/50\n",
      "70/70 [==============================] - 91s 1s/step - loss: 1.0857 - acc: 0.3857 - val_loss: 1.0604 - val_acc: 0.4390\n",
      "Epoch 2/50\n",
      "70/70 [==============================] - 89s 1s/step - loss: 1.0378 - acc: 0.4506 - val_loss: 1.0339 - val_acc: 0.4370\n",
      "Epoch 3/50\n",
      "70/70 [==============================] - 88s 1s/step - loss: 1.0179 - acc: 0.4663 - val_loss: 1.0392 - val_acc: 0.4600\n",
      "Epoch 4/50\n",
      "70/70 [==============================] - 88s 1s/step - loss: 1.0192 - acc: 0.4555 - val_loss: 1.0192 - val_acc: 0.4610\n",
      "Epoch 5/50\n",
      "70/70 [==============================] - 88s 1s/step - loss: 1.0123 - acc: 0.4816 - val_loss: 1.0245 - val_acc: 0.4680\n",
      "Epoch 6/50\n",
      "70/70 [==============================] - 89s 1s/step - loss: 0.9948 - acc: 0.4982 - val_loss: 0.9998 - val_acc: 0.5020\n",
      "Epoch 7/50\n",
      "70/70 [==============================] - 89s 1s/step - loss: 0.9935 - acc: 0.4959 - val_loss: 1.0252 - val_acc: 0.4630\n",
      "Epoch 8/50\n",
      "70/70 [==============================] - 88s 1s/step - loss: 0.9831 - acc: 0.5084 - val_loss: 0.9684 - val_acc: 0.5170\n",
      "Epoch 9/50\n",
      "70/70 [==============================] - 88s 1s/step - loss: 0.9764 - acc: 0.5057 - val_loss: 0.9602 - val_acc: 0.5320\n",
      "Epoch 10/50\n",
      "70/70 [==============================] - 89s 1s/step - loss: 0.9662 - acc: 0.5243 - val_loss: 0.9884 - val_acc: 0.4930\n",
      "Epoch 11/50\n",
      "70/70 [==============================] - 88s 1s/step - loss: 0.9591 - acc: 0.5283 - val_loss: 0.9715 - val_acc: 0.5220\n",
      "Epoch 12/50\n",
      "70/70 [==============================] - 88s 1s/step - loss: 0.9506 - acc: 0.5341 - val_loss: 0.9562 - val_acc: 0.5190\n",
      "Epoch 13/50\n",
      "70/70 [==============================] - 88s 1s/step - loss: 0.9547 - acc: 0.5373 - val_loss: 0.9545 - val_acc: 0.5270\n",
      "Epoch 14/50\n",
      "70/70 [==============================] - 88s 1s/step - loss: 0.9389 - acc: 0.5517 - val_loss: 0.9367 - val_acc: 0.5490\n",
      "Epoch 15/50\n",
      "70/70 [==============================] - 89s 1s/step - loss: 0.9374 - acc: 0.5475 - val_loss: 0.9268 - val_acc: 0.5590\n",
      "Epoch 16/50\n",
      "70/70 [==============================] - 88s 1s/step - loss: 0.9295 - acc: 0.5683 - val_loss: 0.9186 - val_acc: 0.5740\n",
      "Epoch 17/50\n",
      "70/70 [==============================] - 88s 1s/step - loss: 0.9203 - acc: 0.5696 - val_loss: 0.9577 - val_acc: 0.5370\n",
      "Epoch 18/50\n",
      "70/70 [==============================] - 88s 1s/step - loss: 0.9270 - acc: 0.5612 - val_loss: 0.9179 - val_acc: 0.5610\n",
      "Epoch 19/50\n",
      "70/70 [==============================] - 88s 1s/step - loss: 0.9094 - acc: 0.5751 - val_loss: 0.9099 - val_acc: 0.5610\n",
      "Epoch 20/50\n",
      "70/70 [==============================] - 88s 1s/step - loss: 0.9093 - acc: 0.5771 - val_loss: 0.8948 - val_acc: 0.5720\n",
      "Epoch 21/50\n",
      "70/70 [==============================] - 89s 1s/step - loss: 0.8955 - acc: 0.5730 - val_loss: 0.8954 - val_acc: 0.5710\n",
      "Epoch 22/50\n",
      "70/70 [==============================] - 89s 1s/step - loss: 0.8997 - acc: 0.5801 - val_loss: 0.9198 - val_acc: 0.5710\n",
      "Epoch 23/50\n",
      "70/70 [==============================] - 89s 1s/step - loss: 0.8828 - acc: 0.5904 - val_loss: 0.9382 - val_acc: 0.5440\n",
      "Epoch 24/50\n",
      "70/70 [==============================] - 89s 1s/step - loss: 0.8834 - acc: 0.5963 - val_loss: 0.8752 - val_acc: 0.5910\n",
      "Epoch 25/50\n",
      "70/70 [==============================] - 89s 1s/step - loss: 0.8827 - acc: 0.5976 - val_loss: 0.8884 - val_acc: 0.5980\n",
      "Epoch 26/50\n",
      "70/70 [==============================] - 88s 1s/step - loss: 0.8712 - acc: 0.6006 - val_loss: 0.8770 - val_acc: 0.5860\n",
      "Epoch 27/50\n",
      "70/70 [==============================] - 89s 1s/step - loss: 0.8749 - acc: 0.5979 - val_loss: 0.8410 - val_acc: 0.6130\n",
      "Epoch 28/50\n",
      "70/70 [==============================] - 88s 1s/step - loss: 0.8538 - acc: 0.6170 - val_loss: 0.8416 - val_acc: 0.6120\n",
      "Epoch 29/50\n",
      "70/70 [==============================] - 88s 1s/step - loss: 0.8541 - acc: 0.6113 - val_loss: 0.8367 - val_acc: 0.6260\n",
      "Epoch 30/50\n",
      "70/70 [==============================] - 89s 1s/step - loss: 0.8488 - acc: 0.6191 - val_loss: 0.9198 - val_acc: 0.5690\n",
      "Epoch 31/50\n",
      "70/70 [==============================] - 89s 1s/step - loss: 0.8390 - acc: 0.6207 - val_loss: 0.8714 - val_acc: 0.6070\n",
      "Epoch 32/50\n",
      "70/70 [==============================] - 88s 1s/step - loss: 0.8389 - acc: 0.6279 - val_loss: 0.8242 - val_acc: 0.6190\n",
      "Epoch 33/50\n",
      "70/70 [==============================] - 88s 1s/step - loss: 0.8406 - acc: 0.6208 - val_loss: 0.8498 - val_acc: 0.6140\n",
      "Epoch 34/50\n",
      "26/70 [==========>...................] - ETA: 51s - loss: 0.8052 - acc: 0.6488"
     ]
    }
   ],
   "source": [
    "history=model.fit(train_generator,\n",
    "          steps_per_epoch=(7009/BATCH_SIZE), # this is for the training images\n",
    "\n",
    "          epochs=50, \n",
    "\n",
    "          validation_data=validation_generator,\n",
    "          validation_steps=(1000/BATCH_SIZE)#,\n",
    "\n",
    "          #callbacks=[earlystop,csv_logger]\n",
    "          )"
   ]
  },
  {
   "cell_type": "code",
   "execution_count": null,
   "metadata": {},
   "outputs": [],
   "source": [
    "from tensorflow.keras import models\n",
    "\n",
    "model.save(\"CustomNN-5\")"
   ]
  },
  {
   "cell_type": "code",
   "execution_count": 21,
   "metadata": {},
   "outputs": [],
   "source": [
    "# import tensorflow as tf\n",
    "# model_name = \"CustomNN-2\" \n",
    "\n",
    "# saved_model_path = f\"{model_name}\"\n",
    "# tf.saved_model.save(model, saved_model_path)"
   ]
  },
  {
   "cell_type": "code",
   "execution_count": 24,
   "metadata": {},
   "outputs": [],
   "source": [
    "# IMPORTING OUR SAVED MODEL\n",
    "\n",
    "import tensorflow as tf\n",
    "from tensorflow.keras import models\n",
    "\n",
    "model_name = \"CustomNN-3\" \n",
    "imported = models.load_model(model_name)"
   ]
  },
  {
   "cell_type": "code",
   "execution_count": 25,
   "metadata": {},
   "outputs": [
    {
     "name": "stdout",
     "output_type": "stream",
     "text": [
      "Epoch 1/5\n",
      "70/70 [==============================] - 90s 1s/step - loss: 0.9593 - acc: 0.5322 - val_loss: 0.9578 - val_acc: 0.5450\n",
      "Epoch 2/5\n",
      "70/70 [==============================] - 88s 1s/step - loss: 0.9457 - acc: 0.5461 - val_loss: 0.9684 - val_acc: 0.5220\n",
      "Epoch 3/5\n",
      "70/70 [==============================] - 88s 1s/step - loss: 0.9397 - acc: 0.5519 - val_loss: 0.9453 - val_acc: 0.5330\n",
      "Epoch 4/5\n",
      "70/70 [==============================] - 88s 1s/step - loss: 0.9305 - acc: 0.5575 - val_loss: 0.9263 - val_acc: 0.5640\n",
      "Epoch 5/5\n",
      "70/70 [==============================] - 88s 1s/step - loss: 0.9268 - acc: 0.5646 - val_loss: 0.9534 - val_acc: 0.5390\n"
     ]
    }
   ],
   "source": [
    "history = imported.fit(train_generator,\n",
    "          steps_per_epoch=(7009/BATCH_SIZE), # this is for the training images\n",
    "          epochs=5, \n",
    "          validation_data=validation_generator,\n",
    "          validation_steps=(1000/BATCH_SIZE)\n",
    "          )"
   ]
  },
  {
   "cell_type": "code",
   "execution_count": 27,
   "metadata": {},
   "outputs": [],
   "source": [
    "# history=imported.fit(train_generator,\n",
    "#           steps_per_epoch=(7009/BATCH_SIZE), # this is for the training images\n",
    "\n",
    "#           epochs=30, \n",
    "\n",
    "#           validation_data=validation_generator,\n",
    "#           validation_steps=(1000/BATCH_SIZE),\n",
    "\n",
    "#           callbacks=[earlystop,csv_logger]\n",
    "#           )"
   ]
  },
  {
   "cell_type": "code",
   "execution_count": 80,
   "metadata": {},
   "outputs": [
    {
     "data": {
      "text/plain": [
       "[<matplotlib.lines.Line2D at 0x7f38700cda00>]"
      ]
     },
     "execution_count": 80,
     "metadata": {},
     "output_type": "execute_result"
    },
    {
     "data": {
      "image/png": "[encoded data removed]",
      "text/plain": [
       "<Figure size 432x288 with 1 Axes>"
      ]
     },
     "metadata": {
      "needs_background": "light"
     },
     "output_type": "display_data"
    },
    {
     "data": {
      "image/png": "[encoded data removed]",
      "text/plain": [
       "<Figure size 432x288 with 1 Axes>"
      ]
     },
     "metadata": {
      "needs_background": "light"
     },
     "output_type": "display_data"
    }
   ],
   "source": [
    "plt.figure()\n",
    "plt.ylabel(\"Loss (training and validation)\")\n",
    "plt.xlabel(\"Training Steps\")\n",
    "#plt.ylim([0,2])\n",
    "plt.plot(history.history[\"loss\"])\n",
    "plt.plot(history.history[\"val_loss\"])\n",
    "\n",
    "plt.figure()\n",
    "plt.ylabel(\"Accuracy (training and validation)\")\n",
    "plt.xlabel(\"Training Steps\")\n",
    "#plt.ylim([0,1])\n",
    "plt.plot(history.history[\"acc\"])\n",
    "plt.plot(history.history[\"val_acc\"])"
   ]
  },
  {
   "cell_type": "code",
   "execution_count": 31,
   "metadata": {},
   "outputs": [],
   "source": [
    "import math\n",
    "import numpy as np\n",
    "import seaborn as sns"
   ]
  },
  {
   "cell_type": "code",
   "execution_count": 32,
   "metadata": {},
   "outputs": [],
   "source": [
    "# test_batches = validation_datagen.flow_from_directory( batch_size=n)\n",
    "number_of_examples = len(validation_generator.filenames)\n",
    "# number_of_examples\n",
    "number_of_generator_calls = math.ceil(number_of_examples / (1.0 * BATCH_SIZE)) \n",
    "# 1.0 above is to skip integer division\n",
    "\n",
    "test_labels = []\n",
    "\n",
    "for i in range(0,int(number_of_generator_calls)):\n",
    "    test_labels.extend(np.array(validation_generator[i][1]))"
   ]
  },
  {
   "cell_type": "code",
   "execution_count": 33,
   "metadata": {},
   "outputs": [
    {
     "data": {
      "text/plain": [
       "2"
      ]
     },
     "execution_count": 33,
     "metadata": {},
     "output_type": "execute_result"
    }
   ],
   "source": [
    "import numpy as np\n",
    "rounded_labels=np.argmax(test_labels, axis=1)\n",
    "rounded_labels[1]\n",
    "# 2"
   ]
  },
  {
   "cell_type": "code",
   "execution_count": 34,
   "metadata": {},
   "outputs": [
    {
     "name": "stdout",
     "output_type": "stream",
     "text": [
      "10/10 [==============================] - 4s 403ms/step\n",
      "Confusion Matrix\n"
     ]
    },
    {
     "data": {
      "text/plain": [
       "array([[131, 168,  30],\n",
       "       [ 37, 284,  17],\n",
       "       [ 53, 146, 134]])"
      ]
     },
     "execution_count": 34,
     "metadata": {},
     "output_type": "execute_result"
    }
   ],
   "source": [
    "from sklearn.metrics import confusion_matrix,classification_report\n",
    "Y_pred = model.predict(validation_generator)\n",
    "# true_classes=df['label']\n",
    "print('Confusion Matrix')\n",
    "cm=confusion_matrix(rounded_labels,Y_pred.argmax(axis=1))\n",
    "cm"
   ]
  },
  {
   "cell_type": "code",
   "execution_count": 35,
   "metadata": {},
   "outputs": [
    {
     "data": {
      "image/png": "[encoded data removed]",
      "text/plain": [
       "<Figure size 288x288 with 2 Axes>"
      ]
     },
     "metadata": {
      "needs_background": "light"
     },
     "output_type": "display_data"
    }
   ],
   "source": [
    "plt.figure(figsize=(4,4))\n",
    "sns.heatmap(cm, annot=True, cmap='Blues', fmt='g')\n",
    "plt.show()"
   ]
  },
  {
   "cell_type": "code",
   "execution_count": 44,
   "metadata": {},
   "outputs": [
    {
     "name": "stderr",
     "output_type": "stream",
     "text": [
      "<ipython-input-44-76bc6bb13dbf>:2: UserWarning: `Model.predict_generator` is deprecated and will be removed in a future version. Please use `Model.predict`, which supports generators.\n",
      "  predictions = model.predict_generator(validation_generator)\n"
     ]
    }
   ],
   "source": [
    "true_labels = validation_generator.classes\n",
    "predictions = model.predict_generator(validation_generator)\n"
   ]
  },
  {
   "cell_type": "code",
   "execution_count": 47,
   "metadata": {},
   "outputs": [
    {
     "data": {
      "image/png": "[encoded data removed]",
      "text/plain": [
       "<Figure size 432x288 with 1 Axes>"
      ]
     },
     "metadata": {
      "needs_background": "light"
     },
     "output_type": "display_data"
    }
   ],
   "source": [
    "pd.Series(train_generator.classes).hist();"
   ]
  },
  {
   "cell_type": "code",
   "execution_count": 37,
   "metadata": {},
   "outputs": [],
   "source": [
    "y_true = true_labels\n",
    "y_pred = np.array([np.argmax(x) for x in predictions])"
   ]
  },
  {
   "cell_type": "code",
   "execution_count": 40,
   "metadata": {},
   "outputs": [],
   "source": [
    "\n",
    "import sklearn \n",
    "cm = sklearn.metrics.confusion_matrix(y_true, y_pred)\n"
   ]
  },
  {
   "cell_type": "code",
   "execution_count": 41,
   "metadata": {},
   "outputs": [
    {
     "data": {
      "image/png": "[encoded data removed]",
      "text/plain": [
       "<Figure size 288x288 with 2 Axes>"
      ]
     },
     "metadata": {
      "needs_background": "light"
     },
     "output_type": "display_data"
    }
   ],
   "source": [
    "plt.figure(figsize=(4,4))\n",
    "sns.heatmap(cm, annot=True, cmap='Blues', fmt='g')\n",
    "plt.show()"
   ]
  },
  {
   "cell_type": "markdown",
   "metadata": {},
   "source": [
    "### Transfer Learning"
   ]
  },
  {
   "cell_type": "code",
   "execution_count": null,
   "metadata": {},
   "outputs": [],
   "source": [
    "# Transfer learning: \n",
    "# Because with transfer learning, you begin with an existing (trained) neural network \n",
    "# used for image recognition — and then tweak it a bit (or more) here and there to train a \n",
    "# model for your particular use case. \n",
    "# And why do we do that? Training a reasonable neural network would mean needing approximately \n",
    "# 300,000 image samples, and to achieve really good performance, we’re going to need at least a \n",
    "# million images.\n",
    "# https://www.kaggle.com/code/arbazkhan971/image-classification-using-cnn-94-accuracy\n"
   ]
  },
  {
   "cell_type": "code",
   "execution_count": null,
   "metadata": {},
   "outputs": [],
   "source": [
    "# !pip uninstall fastai -y"
   ]
  },
  {
   "cell_type": "code",
   "execution_count": null,
   "metadata": {},
   "outputs": [],
   "source": [
    "pip install -c fastchan fastai"
   ]
  },
  {
   "cell_type": "code",
   "execution_count": null,
   "metadata": {},
   "outputs": [],
   "source": [
    "from fastai import *\n",
    "from fastai.vision import *\n",
    "from fastai.metrics import error_rate\n",
    "import os\n",
    "import pandas as pd\n",
    "import numpy as np\n",
    "import matplotlib.pyplot as plt\n",
    "import seaborn as sns\n",
    "import cv2"
   ]
  },
  {
   "cell_type": "code",
   "execution_count": null,
   "metadata": {},
   "outputs": [],
   "source": [
    "learn = cnn_learner(data, models.resnet18, metrics=[accuracy], model_dir = Path('../kaggle/working'),path = Path(\".\"))"
   ]
  },
  {
   "cell_type": "code",
   "execution_count": null,
   "metadata": {},
   "outputs": [],
   "source": []
  }
 ],
 "metadata": {
  "kernelspec": {
   "display_name": "Python 3",
   "language": "python",
   "name": "python3"
  },
  "language_info": {
   "codemirror_mode": {
    "name": "ipython",
    "version": 3
   },
   "file_extension": ".py",
   "mimetype": "text/x-python",
   "name": "python",
   "nbconvert_exporter": "python",
   "pygments_lexer": "ipython3",
   "version": "3.8.10"
  },
  "vscode": {
   "interpreter": {
    "hash": "40d3a090f54c6569ab1632332b64b2c03c39dcf918b08424e98f38b5ae0af88f"
   }
  }
 },
 "nbformat": 4,
 "nbformat_minor": 4
}
